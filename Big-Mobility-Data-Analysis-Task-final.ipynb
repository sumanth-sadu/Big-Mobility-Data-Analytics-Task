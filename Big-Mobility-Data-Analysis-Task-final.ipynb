{
 "cells": [
  {
   "cell_type": "markdown",
   "id": "d0e97e88",
   "metadata": {},
   "source": [
    "## Import Libraries"
   ]
  },
  {
   "cell_type": "code",
   "execution_count": 251,
   "id": "f524559f",
   "metadata": {},
   "outputs": [
    {
     "name": "stdout",
     "output_type": "stream",
     "text": [
      "Requirement already satisfied: googlemaps in /Users/venkatasaisumanthsadu/opt/anaconda3/lib/python3.9/site-packages (4.10.0)\n",
      "Requirement already satisfied: requests<3.0,>=2.20.0 in /Users/venkatasaisumanthsadu/opt/anaconda3/lib/python3.9/site-packages (from googlemaps) (2.28.1)\n",
      "Requirement already satisfied: charset-normalizer<3,>=2 in /Users/venkatasaisumanthsadu/opt/anaconda3/lib/python3.9/site-packages (from requests<3.0,>=2.20.0->googlemaps) (2.0.4)\n",
      "Requirement already satisfied: urllib3<1.27,>=1.21.1 in /Users/venkatasaisumanthsadu/opt/anaconda3/lib/python3.9/site-packages (from requests<3.0,>=2.20.0->googlemaps) (1.26.11)\n",
      "Requirement already satisfied: certifi>=2017.4.17 in /Users/venkatasaisumanthsadu/opt/anaconda3/lib/python3.9/site-packages (from requests<3.0,>=2.20.0->googlemaps) (2022.9.24)\n",
      "Requirement already satisfied: idna<4,>=2.5 in /Users/venkatasaisumanthsadu/opt/anaconda3/lib/python3.9/site-packages (from requests<3.0,>=2.20.0->googlemaps) (3.3)\n",
      "Requirement already satisfied: geopandas in /Users/venkatasaisumanthsadu/opt/anaconda3/lib/python3.9/site-packages (0.12.2)\n",
      "Requirement already satisfied: packaging in /Users/venkatasaisumanthsadu/opt/anaconda3/lib/python3.9/site-packages (from geopandas) (21.3)\n",
      "Requirement already satisfied: pyproj>=2.6.1.post1 in /Users/venkatasaisumanthsadu/opt/anaconda3/lib/python3.9/site-packages (from geopandas) (3.4.1)\n",
      "Requirement already satisfied: pandas>=1.0.0 in /Users/venkatasaisumanthsadu/opt/anaconda3/lib/python3.9/site-packages (from geopandas) (1.4.4)\n",
      "Requirement already satisfied: fiona>=1.8 in /Users/venkatasaisumanthsadu/opt/anaconda3/lib/python3.9/site-packages (from geopandas) (1.9.1)\n",
      "Requirement already satisfied: shapely>=1.7 in /Users/venkatasaisumanthsadu/opt/anaconda3/lib/python3.9/site-packages (from geopandas) (2.0.1)\n",
      "Requirement already satisfied: click-plugins>=1.0 in /Users/venkatasaisumanthsadu/opt/anaconda3/lib/python3.9/site-packages (from fiona>=1.8->geopandas) (1.1.1)\n",
      "Requirement already satisfied: click~=8.0 in /Users/venkatasaisumanthsadu/opt/anaconda3/lib/python3.9/site-packages (from fiona>=1.8->geopandas) (8.0.4)\n",
      "Requirement already satisfied: setuptools in /Users/venkatasaisumanthsadu/opt/anaconda3/lib/python3.9/site-packages (from fiona>=1.8->geopandas) (63.4.1)\n",
      "Requirement already satisfied: munch>=2.3.2 in /Users/venkatasaisumanthsadu/opt/anaconda3/lib/python3.9/site-packages (from fiona>=1.8->geopandas) (2.5.0)\n",
      "Requirement already satisfied: cligj>=0.5 in /Users/venkatasaisumanthsadu/opt/anaconda3/lib/python3.9/site-packages (from fiona>=1.8->geopandas) (0.7.2)\n",
      "Requirement already satisfied: certifi in /Users/venkatasaisumanthsadu/opt/anaconda3/lib/python3.9/site-packages (from fiona>=1.8->geopandas) (2022.9.24)\n",
      "Requirement already satisfied: attrs>=19.2.0 in /Users/venkatasaisumanthsadu/opt/anaconda3/lib/python3.9/site-packages (from fiona>=1.8->geopandas) (21.4.0)\n",
      "Requirement already satisfied: python-dateutil>=2.8.1 in /Users/venkatasaisumanthsadu/opt/anaconda3/lib/python3.9/site-packages (from pandas>=1.0.0->geopandas) (2.8.2)\n",
      "Requirement already satisfied: pytz>=2020.1 in /Users/venkatasaisumanthsadu/opt/anaconda3/lib/python3.9/site-packages (from pandas>=1.0.0->geopandas) (2022.1)\n",
      "Requirement already satisfied: numpy>=1.18.5 in /Users/venkatasaisumanthsadu/opt/anaconda3/lib/python3.9/site-packages (from pandas>=1.0.0->geopandas) (1.21.5)\n",
      "Requirement already satisfied: pyparsing!=3.0.5,>=2.0.2 in /Users/venkatasaisumanthsadu/opt/anaconda3/lib/python3.9/site-packages (from packaging->geopandas) (3.0.9)\n",
      "Requirement already satisfied: six in /Users/venkatasaisumanthsadu/opt/anaconda3/lib/python3.9/site-packages (from munch>=2.3.2->fiona>=1.8->geopandas) (1.16.0)\n",
      "Requirement already satisfied: geopy in /Users/venkatasaisumanthsadu/opt/anaconda3/lib/python3.9/site-packages (2.3.0)\n",
      "Requirement already satisfied: geographiclib<3,>=1.52 in /Users/venkatasaisumanthsadu/opt/anaconda3/lib/python3.9/site-packages (from geopy) (2.0)\n"
     ]
    }
   ],
   "source": [
    "!pip install googlemaps\n",
    "!pip install geopandas\n",
    "!pip3 install geopy"
   ]
  },
  {
   "cell_type": "code",
   "execution_count": 252,
   "id": "f50c94ca",
   "metadata": {},
   "outputs": [],
   "source": [
    "import pandas as pd\n",
    "import numpy as np\n",
    "import geopandas \n",
    "from googlemaps import Client as GoogleMaps\n",
    "import geopy.distance"
   ]
  },
  {
   "cell_type": "markdown",
   "id": "c8e5c731",
   "metadata": {},
   "source": [
    "## Download datasets:"
   ]
  },
  {
   "cell_type": "markdown",
   "id": "3806a654",
   "metadata": {},
   "source": [
    "### Read trips dataset"
   ]
  },
  {
   "cell_type": "code",
   "execution_count": 253,
   "id": "18ceace3",
   "metadata": {},
   "outputs": [
    {
     "data": {
      "text/plain": [
       "Index(['VendorID', 'tpep_pickup_datetime', 'tpep_dropoff_datetime',\n",
       "       'passenger_count', 'trip_distance', 'pickup_longitude',\n",
       "       'pickup_latitude', 'dropoff_longitude', 'dropoff_latitude',\n",
       "       'fare_amount', 'tip_amount', 'total_amount'],\n",
       "      dtype='object')"
      ]
     },
     "execution_count": 253,
     "metadata": {},
     "output_type": "execute_result"
    }
   ],
   "source": [
    "df_trips = pd.read_csv(\"data/trip_data.csv\")\n",
    "df_trips.columns"
   ]
  },
  {
   "cell_type": "markdown",
   "id": "c0461160",
   "metadata": {},
   "source": [
    "#### As it was stated that trips during lunchtime (11:30 am - 2 pm) and dinnertime (5 pm - 9 pm) were to restaurants. Let us consider only those datapoints as trips data."
   ]
  },
  {
   "cell_type": "code",
   "execution_count": 254,
   "id": "88d376f1",
   "metadata": {},
   "outputs": [
    {
     "name": "stdout",
     "output_type": "stream",
     "text": [
      "33471\n"
     ]
    },
    {
     "data": {
      "text/html": [
       "<div>\n",
       "<style scoped>\n",
       "    .dataframe tbody tr th:only-of-type {\n",
       "        vertical-align: middle;\n",
       "    }\n",
       "\n",
       "    .dataframe tbody tr th {\n",
       "        vertical-align: top;\n",
       "    }\n",
       "\n",
       "    .dataframe thead th {\n",
       "        text-align: right;\n",
       "    }\n",
       "</style>\n",
       "<table border=\"1\" class=\"dataframe\">\n",
       "  <thead>\n",
       "    <tr style=\"text-align: right;\">\n",
       "      <th></th>\n",
       "      <th>VendorID</th>\n",
       "      <th>tpep_pickup_datetime</th>\n",
       "      <th>tpep_dropoff_datetime</th>\n",
       "      <th>passenger_count</th>\n",
       "      <th>trip_distance</th>\n",
       "      <th>pickup_longitude</th>\n",
       "      <th>pickup_latitude</th>\n",
       "      <th>dropoff_longitude</th>\n",
       "      <th>dropoff_latitude</th>\n",
       "      <th>fare_amount</th>\n",
       "      <th>tip_amount</th>\n",
       "      <th>total_amount</th>\n",
       "    </tr>\n",
       "  </thead>\n",
       "  <tbody>\n",
       "    <tr>\n",
       "      <th>0</th>\n",
       "      <td>2</td>\n",
       "      <td>2015-01-15 19:05:39 +00:00</td>\n",
       "      <td>2015-01-15 19:23:42 +00:00</td>\n",
       "      <td>1</td>\n",
       "      <td>1.59</td>\n",
       "      <td>-73.993896</td>\n",
       "      <td>40.750111</td>\n",
       "      <td>-73.974785</td>\n",
       "      <td>40.750618</td>\n",
       "      <td>12.0</td>\n",
       "      <td>3.25</td>\n",
       "      <td>17.05</td>\n",
       "    </tr>\n",
       "    <tr>\n",
       "      <th>1</th>\n",
       "      <td>2</td>\n",
       "      <td>2015-01-15 19:05:39 +00:00</td>\n",
       "      <td>2015-01-15 19:32:00 +00:00</td>\n",
       "      <td>1</td>\n",
       "      <td>2.38</td>\n",
       "      <td>-73.976425</td>\n",
       "      <td>40.739811</td>\n",
       "      <td>-73.983978</td>\n",
       "      <td>40.757889</td>\n",
       "      <td>16.5</td>\n",
       "      <td>4.38</td>\n",
       "      <td>22.68</td>\n",
       "    </tr>\n",
       "    <tr>\n",
       "      <th>2</th>\n",
       "      <td>2</td>\n",
       "      <td>2015-01-15 19:05:40 +00:00</td>\n",
       "      <td>2015-01-15 19:21:00 +00:00</td>\n",
       "      <td>5</td>\n",
       "      <td>2.83</td>\n",
       "      <td>-73.968704</td>\n",
       "      <td>40.754246</td>\n",
       "      <td>-73.955124</td>\n",
       "      <td>40.786858</td>\n",
       "      <td>12.5</td>\n",
       "      <td>0.00</td>\n",
       "      <td>14.30</td>\n",
       "    </tr>\n",
       "    <tr>\n",
       "      <th>3</th>\n",
       "      <td>2</td>\n",
       "      <td>2015-01-15 19:05:40 +00:00</td>\n",
       "      <td>2015-01-15 19:28:18 +00:00</td>\n",
       "      <td>5</td>\n",
       "      <td>8.33</td>\n",
       "      <td>-73.863060</td>\n",
       "      <td>40.769581</td>\n",
       "      <td>-73.952713</td>\n",
       "      <td>40.785782</td>\n",
       "      <td>26.0</td>\n",
       "      <td>8.08</td>\n",
       "      <td>41.21</td>\n",
       "    </tr>\n",
       "    <tr>\n",
       "      <th>4</th>\n",
       "      <td>2</td>\n",
       "      <td>2015-01-15 19:05:41 +00:00</td>\n",
       "      <td>2015-01-15 19:20:36 +00:00</td>\n",
       "      <td>1</td>\n",
       "      <td>2.37</td>\n",
       "      <td>-73.945541</td>\n",
       "      <td>40.779423</td>\n",
       "      <td>-73.980850</td>\n",
       "      <td>40.786083</td>\n",
       "      <td>11.5</td>\n",
       "      <td>0.00</td>\n",
       "      <td>13.30</td>\n",
       "    </tr>\n",
       "  </tbody>\n",
       "</table>\n",
       "</div>"
      ],
      "text/plain": [
       "   VendorID        tpep_pickup_datetime       tpep_dropoff_datetime  \\\n",
       "0         2  2015-01-15 19:05:39 +00:00  2015-01-15 19:23:42 +00:00   \n",
       "1         2  2015-01-15 19:05:39 +00:00  2015-01-15 19:32:00 +00:00   \n",
       "2         2  2015-01-15 19:05:40 +00:00  2015-01-15 19:21:00 +00:00   \n",
       "3         2  2015-01-15 19:05:40 +00:00  2015-01-15 19:28:18 +00:00   \n",
       "4         2  2015-01-15 19:05:41 +00:00  2015-01-15 19:20:36 +00:00   \n",
       "\n",
       "   passenger_count  trip_distance  pickup_longitude  pickup_latitude  \\\n",
       "0                1           1.59        -73.993896        40.750111   \n",
       "1                1           2.38        -73.976425        40.739811   \n",
       "2                5           2.83        -73.968704        40.754246   \n",
       "3                5           8.33        -73.863060        40.769581   \n",
       "4                1           2.37        -73.945541        40.779423   \n",
       "\n",
       "   dropoff_longitude  dropoff_latitude  fare_amount  tip_amount  total_amount  \n",
       "0         -73.974785         40.750618         12.0        3.25         17.05  \n",
       "1         -73.983978         40.757889         16.5        4.38         22.68  \n",
       "2         -73.955124         40.786858         12.5        0.00         14.30  \n",
       "3         -73.952713         40.785782         26.0        8.08         41.21  \n",
       "4         -73.980850         40.786083         11.5        0.00         13.30  "
      ]
     },
     "execution_count": 254,
     "metadata": {},
     "output_type": "execute_result"
    }
   ],
   "source": [
    "\n",
    "df_trips_timed = df_t[((df_t.tpep_dropoff_datetime.str.split(\" \",expand=True)[1] > '11:30:00') & \n",
    "                       (df_t.tpep_dropoff_datetime.str.split(\" \",expand=True)[1] < '14:00:00')) | \n",
    "                      ((df_t.tpep_dropoff_datetime.str.split(\" \",expand=True)[1] > '17:00:00') & \n",
    "                       (df_t.tpep_dropoff_datetime.str.split(\" \",expand=True)[1] < '21:00:00'))]\n",
    "\n",
    "print(len(df_trips_timed))\n",
    "\n",
    "df_trips_timed = df_trips_timed.reset_index(drop=True)\n",
    "# df_trips_timed consists of only trips during lunchtime and dinnertime. \n",
    "df_trips_timed.head()"
   ]
  },
  {
   "cell_type": "markdown",
   "id": "6c5654a5",
   "metadata": {},
   "source": [
    "### Reading resturants dataset"
   ]
  },
  {
   "cell_type": "code",
   "execution_count": 3,
   "id": "f1ea7bcd",
   "metadata": {},
   "outputs": [],
   "source": [
    "# google geocoding api key to convert address of a resturant to latitude and longitude. \n",
    "gmaps = GoogleMaps('paste google api key here')"
   ]
  },
  {
   "cell_type": "code",
   "execution_count": 260,
   "id": "a689e985",
   "metadata": {},
   "outputs": [
    {
     "data": {
      "text/plain": [
       "Index(['CAMIS', 'DBA', 'BORO', 'BUILDING', 'STREET', 'ZIPCODE', 'PHONE',\n",
       "       'CUISINE DESCRIPTION', 'INSPECTION DATE', 'ACTION', 'VIOLATION CODE',\n",
       "       'VIOLATION DESCRIPTION', 'CRITICAL FLAG', 'SCORE', 'GRADE',\n",
       "       'GRADE DATE', 'RECORD DATE', 'INSPECTION TYPE'],\n",
       "      dtype='object')"
      ]
     },
     "execution_count": 260,
     "metadata": {},
     "output_type": "execute_result"
    }
   ],
   "source": [
    "# read data \n",
    "df_r = pd.read_csv(\"data/restaurant_data.csv\")\n",
    "df_r.columns"
   ]
  },
  {
   "cell_type": "code",
   "execution_count": 261,
   "id": "85e70666",
   "metadata": {},
   "outputs": [],
   "source": [
    "# we dont want NaN values primarily in ['BUILDING', 'STREET', 'ZIPCODE', 'CAMIS', 'DBA','BORO', 'CUISINE DESCRIPTION', 'CRITICAL FLAG'] columns \n",
    "# as later these are used for modeling.\n",
    "df_r_unique = df_r.dropna()\n",
    "df_r_unique = df_r_unique.reset_index()\n"
   ]
  },
  {
   "cell_type": "code",
   "execution_count": 262,
   "id": "70f45357",
   "metadata": {},
   "outputs": [
    {
     "data": {
      "text/plain": [
       "191636"
      ]
     },
     "execution_count": 262,
     "metadata": {},
     "output_type": "execute_result"
    }
   ],
   "source": [
    "len(df_r_unique)"
   ]
  },
  {
   "cell_type": "code",
   "execution_count": 263,
   "id": "ec578bcc",
   "metadata": {},
   "outputs": [
    {
     "name": "stderr",
     "output_type": "stream",
     "text": [
      "/var/folders/dz/k6x51lvd2jv050r966v_h2br0000gn/T/ipykernel_19884/117765336.py:6: SettingWithCopyWarning: \n",
      "A value is trying to be set on a copy of a slice from a DataFrame\n",
      "\n",
      "See the caveats in the documentation: https://pandas.pydata.org/pandas-docs/stable/user_guide/indexing.html#returning-a-view-versus-a-copy\n",
      "  df_r_unique['ADDRESS'][i] = df_r_unique['BUILDING'][i] + ' ' + df_r_unique['STREET'][i] + ' ' + str(int(df_r_unique['ZIPCODE'][i]))\n"
     ]
    }
   ],
   "source": [
    "# concatenating 'Building', 'street' and 'zipcode' to get complete address of resturant.\n",
    "# This is reuqired to find latitude and longitude using google geocoding api. \n",
    "\n",
    "df_r_unique['ADDRESS'] = ''\n",
    "for i in range(len(df_r_unique)):\n",
    "    df_r_unique['ADDRESS'][i] = df_r_unique['BUILDING'][i] + ' ' + df_r_unique['STREET'][i] + ' ' + str(int(df_r_unique['ZIPCODE'][i]))\n",
    "    \n"
   ]
  },
  {
   "cell_type": "code",
   "execution_count": 265,
   "id": "5fcb5312",
   "metadata": {},
   "outputs": [
    {
     "data": {
      "text/plain": [
       "22489"
      ]
     },
     "execution_count": 265,
     "metadata": {},
     "output_type": "execute_result"
    }
   ],
   "source": [
    "# in order to join the above two datasets we only require unique addresses and their location.\n",
    "df_r_unique = df_r_unique.drop_duplicates(subset=['ADDRESS'], keep='last')\n",
    "df_r_unique.reset_index(inplace = True)\n",
    "len(df_r_unique)"
   ]
  },
  {
   "cell_type": "code",
   "execution_count": 266,
   "id": "3246de22",
   "metadata": {},
   "outputs": [],
   "source": [
    "df_r_unique['LONG_GCP'] = \"\"\n",
    "df_r_unique['LAT_GCP'] = \"\""
   ]
  },
  {
   "cell_type": "code",
   "execution_count": 287,
   "id": "0348dc3b",
   "metadata": {},
   "outputs": [],
   "source": [
    "\n",
    "for x in range(len(df_r_unique)):\n",
    "    try:\n",
    "        geocode_result = gmaps.geocode(df_r_unique['ADDRESS'][x])\n",
    "        df_r_unique['LAT_GCP'][x] = geocode_result[0]['geometry']['location'] ['lat']\n",
    "        df_r_unique['LONG_GCP'][x] = geocode_result[0]['geometry']['location']['lng']\n",
    "    except IndexError:\n",
    "        print(\"Address was wrong...\")\n",
    "    except Exception as e:\n",
    "        print(\"Unexpected error occurred.\", e )\n",
    "    "
   ]
  },
  {
   "cell_type": "code",
   "execution_count": 268,
   "id": "24e91631",
   "metadata": {},
   "outputs": [
    {
     "data": {
      "text/plain": [
       "22489"
      ]
     },
     "execution_count": 268,
     "metadata": {},
     "output_type": "execute_result"
    }
   ],
   "source": [
    "# lets remove rows whose address couldn't be converted into latitude and longitude as the address is either not \n",
    "# properly clear or is not found.\n",
    "df_r_unique2 = df_r_unique[(df_r_unique['LONG_GCP'] != \"\") | (df_r_unique['LAT_GCP'] != \"\")].copy(deep=True)\n",
    "len(df_r_unique2)"
   ]
  },
  {
   "cell_type": "markdown",
   "id": "9b7cc139",
   "metadata": {},
   "source": [
    "#### Converting trip and resturant dataframes into GeoDataframe using Latitude and Longitude. This is done to join both dataframes on geometry column based on closest proximity"
   ]
  },
  {
   "cell_type": "code",
   "execution_count": 270,
   "id": "36c4f61f",
   "metadata": {
    "scrolled": false
   },
   "outputs": [],
   "source": [
    "df_r_unique2.dropna(subset=['LONG_GCP','LAT_GCP'], inplace = True)\n",
    "df_r_unique2.reset_index(drop=True, inplace = True)"
   ]
  },
  {
   "cell_type": "markdown",
   "id": "f7ee4b88",
   "metadata": {},
   "source": [
    "## Link the two datasets spatially"
   ]
  },
  {
   "cell_type": "markdown",
   "id": "af653824",
   "metadata": {},
   "source": [
    "#### The two geodataframes are joined based on the haversine formula, which assumes the earth is a sphere, which results in errors of up to about 0.5% (according to help(geopy.distance)) "
   ]
  },
  {
   "cell_type": "code",
   "execution_count": 276,
   "id": "6813a89b",
   "metadata": {},
   "outputs": [
    {
     "data": {
      "text/html": [
       "<div>\n",
       "<style scoped>\n",
       "    .dataframe tbody tr th:only-of-type {\n",
       "        vertical-align: middle;\n",
       "    }\n",
       "\n",
       "    .dataframe tbody tr th {\n",
       "        vertical-align: top;\n",
       "    }\n",
       "\n",
       "    .dataframe thead th {\n",
       "        text-align: right;\n",
       "    }\n",
       "</style>\n",
       "<table border=\"1\" class=\"dataframe\">\n",
       "  <thead>\n",
       "    <tr style=\"text-align: right;\">\n",
       "      <th></th>\n",
       "      <th>VendorID</th>\n",
       "      <th>tpep_pickup_datetime</th>\n",
       "      <th>tpep_dropoff_datetime</th>\n",
       "      <th>passenger_count</th>\n",
       "      <th>trip_distance</th>\n",
       "      <th>pickup_longitude</th>\n",
       "      <th>pickup_latitude</th>\n",
       "      <th>dropoff_longitude</th>\n",
       "      <th>dropoff_latitude</th>\n",
       "      <th>fare_amount</th>\n",
       "      <th>...</th>\n",
       "      <th>VIOLATION DESCRIPTION</th>\n",
       "      <th>CRITICAL FLAG</th>\n",
       "      <th>SCORE</th>\n",
       "      <th>GRADE</th>\n",
       "      <th>GRADE DATE</th>\n",
       "      <th>RECORD DATE</th>\n",
       "      <th>INSPECTION TYPE</th>\n",
       "      <th>ADDRESS</th>\n",
       "      <th>LONG_GCP</th>\n",
       "      <th>LAT_GCP</th>\n",
       "    </tr>\n",
       "  </thead>\n",
       "  <tbody>\n",
       "    <tr>\n",
       "      <th>0</th>\n",
       "      <td>2</td>\n",
       "      <td>2015-01-15 19:05:39 +00:00</td>\n",
       "      <td>2015-01-15 19:23:42 +00:00</td>\n",
       "      <td>1</td>\n",
       "      <td>1.59</td>\n",
       "      <td>-73.993896</td>\n",
       "      <td>40.750111</td>\n",
       "      <td>-73.974785</td>\n",
       "      <td>40.750618</td>\n",
       "      <td>12.0</td>\n",
       "      <td>...</td>\n",
       "      <td>Non-food contact surface improperly constructe...</td>\n",
       "      <td>Not Critical</td>\n",
       "      <td>4.0</td>\n",
       "      <td>A</td>\n",
       "      <td>05/22/2015</td>\n",
       "      <td>08/28/2017</td>\n",
       "      <td>Cycle Inspection / Initial Inspection</td>\n",
       "      <td>639 3 AVENUE 10017</td>\n",
       "      <td>-73.974588</td>\n",
       "      <td>40.750183</td>\n",
       "    </tr>\n",
       "    <tr>\n",
       "      <th>1</th>\n",
       "      <td>2</td>\n",
       "      <td>2015-01-15 14:00:57 +00:00</td>\n",
       "      <td>2015-01-16 13:47:27 +00:00</td>\n",
       "      <td>1</td>\n",
       "      <td>0.95</td>\n",
       "      <td>-73.990692</td>\n",
       "      <td>40.755806</td>\n",
       "      <td>-73.974998</td>\n",
       "      <td>40.750580</td>\n",
       "      <td>7.0</td>\n",
       "      <td>...</td>\n",
       "      <td>Non-food contact surface improperly constructe...</td>\n",
       "      <td>Not Critical</td>\n",
       "      <td>4.0</td>\n",
       "      <td>A</td>\n",
       "      <td>05/22/2015</td>\n",
       "      <td>08/28/2017</td>\n",
       "      <td>Cycle Inspection / Initial Inspection</td>\n",
       "      <td>639 3 AVENUE 10017</td>\n",
       "      <td>-73.974588</td>\n",
       "      <td>40.750183</td>\n",
       "    </tr>\n",
       "    <tr>\n",
       "      <th>2</th>\n",
       "      <td>1</td>\n",
       "      <td>2015-01-15 12:09:49 +00:00</td>\n",
       "      <td>2015-01-15 12:20:50 +00:00</td>\n",
       "      <td>2</td>\n",
       "      <td>1.10</td>\n",
       "      <td>-73.975876</td>\n",
       "      <td>40.761192</td>\n",
       "      <td>-73.974884</td>\n",
       "      <td>40.750137</td>\n",
       "      <td>8.0</td>\n",
       "      <td>...</td>\n",
       "      <td>Non-food contact surface improperly constructe...</td>\n",
       "      <td>Not Critical</td>\n",
       "      <td>4.0</td>\n",
       "      <td>A</td>\n",
       "      <td>05/22/2015</td>\n",
       "      <td>08/28/2017</td>\n",
       "      <td>Cycle Inspection / Initial Inspection</td>\n",
       "      <td>639 3 AVENUE 10017</td>\n",
       "      <td>-73.974588</td>\n",
       "      <td>40.750183</td>\n",
       "    </tr>\n",
       "    <tr>\n",
       "      <th>3</th>\n",
       "      <td>2</td>\n",
       "      <td>2015-01-15 17:11:55 +00:00</td>\n",
       "      <td>2015-01-15 17:29:33 +00:00</td>\n",
       "      <td>1</td>\n",
       "      <td>1.53</td>\n",
       "      <td>-73.987465</td>\n",
       "      <td>40.732830</td>\n",
       "      <td>-73.974648</td>\n",
       "      <td>40.750359</td>\n",
       "      <td>12.0</td>\n",
       "      <td>...</td>\n",
       "      <td>Non-food contact surface improperly constructe...</td>\n",
       "      <td>Not Critical</td>\n",
       "      <td>4.0</td>\n",
       "      <td>A</td>\n",
       "      <td>05/22/2015</td>\n",
       "      <td>08/28/2017</td>\n",
       "      <td>Cycle Inspection / Initial Inspection</td>\n",
       "      <td>639 3 AVENUE 10017</td>\n",
       "      <td>-73.974588</td>\n",
       "      <td>40.750183</td>\n",
       "    </tr>\n",
       "    <tr>\n",
       "      <th>4</th>\n",
       "      <td>2</td>\n",
       "      <td>2015-01-15 16:38:41 +00:00</td>\n",
       "      <td>2015-01-15 17:40:45 +00:00</td>\n",
       "      <td>1</td>\n",
       "      <td>17.05</td>\n",
       "      <td>-73.782112</td>\n",
       "      <td>40.644650</td>\n",
       "      <td>-73.974907</td>\n",
       "      <td>40.750568</td>\n",
       "      <td>52.0</td>\n",
       "      <td>...</td>\n",
       "      <td>Non-food contact surface improperly constructe...</td>\n",
       "      <td>Not Critical</td>\n",
       "      <td>4.0</td>\n",
       "      <td>A</td>\n",
       "      <td>05/22/2015</td>\n",
       "      <td>08/28/2017</td>\n",
       "      <td>Cycle Inspection / Initial Inspection</td>\n",
       "      <td>639 3 AVENUE 10017</td>\n",
       "      <td>-73.974588</td>\n",
       "      <td>40.750183</td>\n",
       "    </tr>\n",
       "    <tr>\n",
       "      <th>...</th>\n",
       "      <td>...</td>\n",
       "      <td>...</td>\n",
       "      <td>...</td>\n",
       "      <td>...</td>\n",
       "      <td>...</td>\n",
       "      <td>...</td>\n",
       "      <td>...</td>\n",
       "      <td>...</td>\n",
       "      <td>...</td>\n",
       "      <td>...</td>\n",
       "      <td>...</td>\n",
       "      <td>...</td>\n",
       "      <td>...</td>\n",
       "      <td>...</td>\n",
       "      <td>...</td>\n",
       "      <td>...</td>\n",
       "      <td>...</td>\n",
       "      <td>...</td>\n",
       "      <td>...</td>\n",
       "      <td>...</td>\n",
       "      <td>...</td>\n",
       "    </tr>\n",
       "    <tr>\n",
       "      <th>38832</th>\n",
       "      <td>1</td>\n",
       "      <td>2015-01-15 20:05:57 +00:00</td>\n",
       "      <td>2015-01-15 20:11:00 +00:00</td>\n",
       "      <td>1</td>\n",
       "      <td>1.20</td>\n",
       "      <td>-73.995666</td>\n",
       "      <td>40.724792</td>\n",
       "      <td>-74.007347</td>\n",
       "      <td>40.711456</td>\n",
       "      <td>6.0</td>\n",
       "      <td>...</td>\n",
       "      <td>Cold food item held above 41Âº F (smoked fish ...</td>\n",
       "      <td>Critical</td>\n",
       "      <td>12.0</td>\n",
       "      <td>A</td>\n",
       "      <td>11/02/2016</td>\n",
       "      <td>08/28/2017</td>\n",
       "      <td>Pre-permit (Operational) / Initial Inspection</td>\n",
       "      <td>5 BEEKMAN ST 10038</td>\n",
       "      <td>-74.006828</td>\n",
       "      <td>40.711430</td>\n",
       "    </tr>\n",
       "    <tr>\n",
       "      <th>38833</th>\n",
       "      <td>1</td>\n",
       "      <td>2015-01-15 20:05:58 +00:00</td>\n",
       "      <td>2015-01-15 20:12:40 +00:00</td>\n",
       "      <td>1</td>\n",
       "      <td>1.50</td>\n",
       "      <td>-73.982323</td>\n",
       "      <td>40.767231</td>\n",
       "      <td>-73.972862</td>\n",
       "      <td>40.785934</td>\n",
       "      <td>7.5</td>\n",
       "      <td>...</td>\n",
       "      <td>Food not cooled by an approved method whereby ...</td>\n",
       "      <td>Critical</td>\n",
       "      <td>42.0</td>\n",
       "      <td>C</td>\n",
       "      <td>02/24/2016</td>\n",
       "      <td>08/28/2017</td>\n",
       "      <td>Cycle Inspection / Re-inspection</td>\n",
       "      <td>520 COLUMBUS AVENUE 10024</td>\n",
       "      <td>-73.972774</td>\n",
       "      <td>40.785987</td>\n",
       "    </tr>\n",
       "    <tr>\n",
       "      <th>38834</th>\n",
       "      <td>1</td>\n",
       "      <td>2015-01-15 20:16:20 +00:00</td>\n",
       "      <td>2015-01-15 20:49:15 +00:00</td>\n",
       "      <td>2</td>\n",
       "      <td>5.30</td>\n",
       "      <td>-73.957726</td>\n",
       "      <td>40.773052</td>\n",
       "      <td>-74.001648</td>\n",
       "      <td>40.718407</td>\n",
       "      <td>22.5</td>\n",
       "      <td>...</td>\n",
       "      <td>Food not protected from potential source of co...</td>\n",
       "      <td>Critical</td>\n",
       "      <td>56.0</td>\n",
       "      <td>Z</td>\n",
       "      <td>08/10/2017</td>\n",
       "      <td>08/28/2017</td>\n",
       "      <td>Cycle Inspection / Re-inspection</td>\n",
       "      <td>266 CANAL ST 10013</td>\n",
       "      <td>-74.001242</td>\n",
       "      <td>40.718659</td>\n",
       "    </tr>\n",
       "    <tr>\n",
       "      <th>38835</th>\n",
       "      <td>1</td>\n",
       "      <td>2015-01-15 20:16:21 +00:00</td>\n",
       "      <td>2015-01-15 20:36:12 +00:00</td>\n",
       "      <td>2</td>\n",
       "      <td>11.50</td>\n",
       "      <td>-73.872993</td>\n",
       "      <td>40.774178</td>\n",
       "      <td>-74.004105</td>\n",
       "      <td>40.720997</td>\n",
       "      <td>32.0</td>\n",
       "      <td>...</td>\n",
       "      <td>Non-food contact surface improperly constructe...</td>\n",
       "      <td>Not Critical</td>\n",
       "      <td>12.0</td>\n",
       "      <td>A</td>\n",
       "      <td>04/24/2017</td>\n",
       "      <td>08/28/2017</td>\n",
       "      <td>Cycle Inspection / Re-inspection</td>\n",
       "      <td>374 CANAL STREET 10013</td>\n",
       "      <td>-74.004427</td>\n",
       "      <td>40.720905</td>\n",
       "    </tr>\n",
       "    <tr>\n",
       "      <th>38836</th>\n",
       "      <td>1</td>\n",
       "      <td>2015-01-15 20:16:21 +00:00</td>\n",
       "      <td>2015-01-15 20:42:17 +00:00</td>\n",
       "      <td>1</td>\n",
       "      <td>10.00</td>\n",
       "      <td>-73.873024</td>\n",
       "      <td>40.774143</td>\n",
       "      <td>-73.957230</td>\n",
       "      <td>40.672836</td>\n",
       "      <td>31.0</td>\n",
       "      <td>...</td>\n",
       "      <td>Non-food contact surface improperly constructe...</td>\n",
       "      <td>Not Critical</td>\n",
       "      <td>13.0</td>\n",
       "      <td>A</td>\n",
       "      <td>01/16/2015</td>\n",
       "      <td>08/28/2017</td>\n",
       "      <td>Cycle Inspection / Re-inspection</td>\n",
       "      <td>742 FRANKLIN AVE 11238</td>\n",
       "      <td>-73.957405</td>\n",
       "      <td>40.673122</td>\n",
       "    </tr>\n",
       "  </tbody>\n",
       "</table>\n",
       "<p>38837 rows × 35 columns</p>\n",
       "</div>"
      ],
      "text/plain": [
       "       VendorID        tpep_pickup_datetime       tpep_dropoff_datetime  \\\n",
       "0             2  2015-01-15 19:05:39 +00:00  2015-01-15 19:23:42 +00:00   \n",
       "1             2  2015-01-15 14:00:57 +00:00  2015-01-16 13:47:27 +00:00   \n",
       "2             1  2015-01-15 12:09:49 +00:00  2015-01-15 12:20:50 +00:00   \n",
       "3             2  2015-01-15 17:11:55 +00:00  2015-01-15 17:29:33 +00:00   \n",
       "4             2  2015-01-15 16:38:41 +00:00  2015-01-15 17:40:45 +00:00   \n",
       "...         ...                         ...                         ...   \n",
       "38832         1  2015-01-15 20:05:57 +00:00  2015-01-15 20:11:00 +00:00   \n",
       "38833         1  2015-01-15 20:05:58 +00:00  2015-01-15 20:12:40 +00:00   \n",
       "38834         1  2015-01-15 20:16:20 +00:00  2015-01-15 20:49:15 +00:00   \n",
       "38835         1  2015-01-15 20:16:21 +00:00  2015-01-15 20:36:12 +00:00   \n",
       "38836         1  2015-01-15 20:16:21 +00:00  2015-01-15 20:42:17 +00:00   \n",
       "\n",
       "       passenger_count  trip_distance  pickup_longitude  pickup_latitude  \\\n",
       "0                    1           1.59        -73.993896        40.750111   \n",
       "1                    1           0.95        -73.990692        40.755806   \n",
       "2                    2           1.10        -73.975876        40.761192   \n",
       "3                    1           1.53        -73.987465        40.732830   \n",
       "4                    1          17.05        -73.782112        40.644650   \n",
       "...                ...            ...               ...              ...   \n",
       "38832                1           1.20        -73.995666        40.724792   \n",
       "38833                1           1.50        -73.982323        40.767231   \n",
       "38834                2           5.30        -73.957726        40.773052   \n",
       "38835                2          11.50        -73.872993        40.774178   \n",
       "38836                1          10.00        -73.873024        40.774143   \n",
       "\n",
       "       dropoff_longitude  dropoff_latitude  fare_amount  ...  \\\n",
       "0             -73.974785         40.750618         12.0  ...   \n",
       "1             -73.974998         40.750580          7.0  ...   \n",
       "2             -73.974884         40.750137          8.0  ...   \n",
       "3             -73.974648         40.750359         12.0  ...   \n",
       "4             -73.974907         40.750568         52.0  ...   \n",
       "...                  ...               ...          ...  ...   \n",
       "38832         -74.007347         40.711456          6.0  ...   \n",
       "38833         -73.972862         40.785934          7.5  ...   \n",
       "38834         -74.001648         40.718407         22.5  ...   \n",
       "38835         -74.004105         40.720997         32.0  ...   \n",
       "38836         -73.957230         40.672836         31.0  ...   \n",
       "\n",
       "                                   VIOLATION DESCRIPTION  CRITICAL FLAG SCORE  \\\n",
       "0      Non-food contact surface improperly constructe...   Not Critical   4.0   \n",
       "1      Non-food contact surface improperly constructe...   Not Critical   4.0   \n",
       "2      Non-food contact surface improperly constructe...   Not Critical   4.0   \n",
       "3      Non-food contact surface improperly constructe...   Not Critical   4.0   \n",
       "4      Non-food contact surface improperly constructe...   Not Critical   4.0   \n",
       "...                                                  ...            ...   ...   \n",
       "38832  Cold food item held above 41Âº F (smoked fish ...       Critical  12.0   \n",
       "38833  Food not cooled by an approved method whereby ...       Critical  42.0   \n",
       "38834  Food not protected from potential source of co...       Critical  56.0   \n",
       "38835  Non-food contact surface improperly constructe...   Not Critical  12.0   \n",
       "38836  Non-food contact surface improperly constructe...   Not Critical  13.0   \n",
       "\n",
       "       GRADE  GRADE DATE RECORD DATE  \\\n",
       "0          A  05/22/2015  08/28/2017   \n",
       "1          A  05/22/2015  08/28/2017   \n",
       "2          A  05/22/2015  08/28/2017   \n",
       "3          A  05/22/2015  08/28/2017   \n",
       "4          A  05/22/2015  08/28/2017   \n",
       "...      ...         ...         ...   \n",
       "38832      A  11/02/2016  08/28/2017   \n",
       "38833      C  02/24/2016  08/28/2017   \n",
       "38834      Z  08/10/2017  08/28/2017   \n",
       "38835      A  04/24/2017  08/28/2017   \n",
       "38836      A  01/16/2015  08/28/2017   \n",
       "\n",
       "                                     INSPECTION TYPE  \\\n",
       "0              Cycle Inspection / Initial Inspection   \n",
       "1              Cycle Inspection / Initial Inspection   \n",
       "2              Cycle Inspection / Initial Inspection   \n",
       "3              Cycle Inspection / Initial Inspection   \n",
       "4              Cycle Inspection / Initial Inspection   \n",
       "...                                              ...   \n",
       "38832  Pre-permit (Operational) / Initial Inspection   \n",
       "38833               Cycle Inspection / Re-inspection   \n",
       "38834               Cycle Inspection / Re-inspection   \n",
       "38835               Cycle Inspection / Re-inspection   \n",
       "38836               Cycle Inspection / Re-inspection   \n",
       "\n",
       "                         ADDRESS   LONG_GCP    LAT_GCP  \n",
       "0             639 3 AVENUE 10017 -73.974588  40.750183  \n",
       "1             639 3 AVENUE 10017 -73.974588  40.750183  \n",
       "2             639 3 AVENUE 10017 -73.974588  40.750183  \n",
       "3             639 3 AVENUE 10017 -73.974588  40.750183  \n",
       "4             639 3 AVENUE 10017 -73.974588  40.750183  \n",
       "...                          ...        ...        ...  \n",
       "38832         5 BEEKMAN ST 10038 -74.006828  40.711430  \n",
       "38833  520 COLUMBUS AVENUE 10024 -73.972774  40.785987  \n",
       "38834         266 CANAL ST 10013 -74.001242  40.718659  \n",
       "38835     374 CANAL STREET 10013 -74.004427  40.720905  \n",
       "38836     742 FRANKLIN AVE 11238 -73.957405  40.673122  \n",
       "\n",
       "[38837 rows x 35 columns]"
      ]
     },
     "execution_count": 276,
     "metadata": {},
     "output_type": "execute_result"
    }
   ],
   "source": [
    "# convert trip dataframe to geodataframe\n",
    "gdf_trips = geopandas.GeoDataFrame(\n",
    "    df_t_timed, geometry=geopandas.points_from_xy(df_t_timed.dropoff_longitude, df_t_timed.dropoff_latitude))\n",
    "\n",
    "# convert resturant dataframe to geodataframe\n",
    "gdf_resturants = geopandas.GeoDataFrame(\n",
    "    df_r_unique2, geometry=geopandas.points_from_xy(df_r_unique3.LONG_GCP, df_r_unique3.LAT_GCP))\n",
    "\n",
    "# join both geodataframes using proximity distance of 50 meters based on geometry column\n",
    "gdf_combined = gdf_trips.sjoin_nearest(gdf_resturants, how='inner', max_distance=50)\n",
    "\n",
    "gdf_combined.reset_index(drop=True, inplace = True)\n",
    "\n",
    "gdf_combined"
   ]
  },
  {
   "cell_type": "markdown",
   "id": "e555e133",
   "metadata": {},
   "source": [
    "## Creating an exploratory map"
   ]
  },
  {
   "attachments": {},
   "cell_type": "markdown",
   "id": "15c92a98",
   "metadata": {},
   "source": [
    "### The blue dots show the pick location where as the yellow dots show the resturant location with the type of cuisine they serve.\n",
    "<img src = \"kepler-visualization.jpg\" style=\"width:700px; height:600px\"/>"
   ]
  },
  {
   "cell_type": "markdown",
   "id": "ea20f15d",
   "metadata": {},
   "source": [
    "## Exploratory data analysis questions"
   ]
  },
  {
   "cell_type": "markdown",
   "id": "70cdee7e",
   "metadata": {},
   "source": [
    "### How far do people travel based on different types of cuisine?"
   ]
  },
  {
   "cell_type": "code",
   "execution_count": 278,
   "id": "29007ea1",
   "metadata": {},
   "outputs": [
    {
     "data": {
      "text/plain": [
       "82"
      ]
     },
     "execution_count": 278,
     "metadata": {},
     "output_type": "execute_result"
    }
   ],
   "source": [
    "len(gdf_combined['CUISINE DESCRIPTION'].unique())"
   ]
  },
  {
   "cell_type": "code",
   "execution_count": 279,
   "id": "22d78563",
   "metadata": {},
   "outputs": [
    {
     "name": "stderr",
     "output_type": "stream",
     "text": [
      "/var/folders/dz/k6x51lvd2jv050r966v_h2br0000gn/T/ipykernel_19884/2050848742.py:7: SettingWithCopyWarning: \n",
      "A value is trying to be set on a copy of a slice from a DataFrame\n",
      "\n",
      "See the caveats in the documentation: https://pandas.pydata.org/pandas-docs/stable/user_guide/indexing.html#returning-a-view-versus-a-copy\n",
      "  gdf_combined['DISTANCE_TRAVELLED'][x] = geopy.distance.geodesic(coords_1, coords_2).miles\n"
     ]
    }
   ],
   "source": [
    "gdf_combined['DISTANCE_TRAVELLED'] = \"\"\n",
    "\n",
    "for x in range(len(gdf_combined)):\n",
    "    try:\n",
    "        coords_1 = (gdf_combined['pickup_latitude'][x], gdf_combined['pickup_longitude'][x])\n",
    "        coords_2 = (gdf_combined['LAT_GCP'][x], gdf_combined['LONG_GCP'][x])\n",
    "        gdf_combined['DISTANCE_TRAVELLED'][x] = geopy.distance.geodesic(coords_1, coords_2).miles\n",
    "    except IndexError:\n",
    "        print(\"IndexError\", geopy.distance.geodesic(coords_1, coords_2).miles)\n",
    "    except Exception as e:\n",
    "        print(\"Unexpected error occurred.\", e) "
   ]
  },
  {
   "cell_type": "code",
   "execution_count": 281,
   "id": "677a740c",
   "metadata": {},
   "outputs": [
    {
     "data": {
      "text/plain": [
       "8329     346.794997\n",
       "34171     20.156912\n",
       "33283     19.632348\n",
       "33282     19.632348\n",
       "26341     19.478686\n",
       "            ...    \n",
       "36028      0.003003\n",
       "36027      0.003003\n",
       "20648      0.002821\n",
       "20647      0.002821\n",
       "7713       0.002611\n",
       "Name: DISTANCE_TRAVELLED, Length: 38837, dtype: object"
      ]
     },
     "execution_count": 281,
     "metadata": {},
     "output_type": "execute_result"
    }
   ],
   "source": [
    "gdf_combined.sort_values(\"DISTANCE_TRAVELLED\", ascending=False)['DISTANCE_TRAVELLED']\n",
    "# we found an extreme outlier in the data, this should be removed. "
   ]
  },
  {
   "cell_type": "code",
   "execution_count": 282,
   "id": "7fde36c2",
   "metadata": {},
   "outputs": [],
   "source": [
    "gdf_combined = gdf_combined[gdf_combined['DISTANCE_TRAVELLED'] != gdf_combined['DISTANCE_TRAVELLED'].max()]\n",
    "gdf_combined.reset_index(inplace = True)"
   ]
  },
  {
   "cell_type": "code",
   "execution_count": 283,
   "id": "55b60445",
   "metadata": {},
   "outputs": [
    {
     "data": {
      "text/plain": [
       "34170    20.156912\n",
       "33281    19.632348\n",
       "33282    19.632348\n",
       "26340    19.478686\n",
       "38296    19.314463\n",
       "           ...    \n",
       "36026     0.003003\n",
       "36027     0.003003\n",
       "20647     0.002821\n",
       "20646     0.002821\n",
       "7713      0.002611\n",
       "Name: DISTANCE_TRAVELLED, Length: 38836, dtype: object"
      ]
     },
     "execution_count": 283,
     "metadata": {},
     "output_type": "execute_result"
    }
   ],
   "source": [
    "gdf_combined.sort_values(\"DISTANCE_TRAVELLED\", ascending=False)['DISTANCE_TRAVELLED']"
   ]
  },
  {
   "cell_type": "markdown",
   "id": "53dea519",
   "metadata": {},
   "source": [
    "#### Average distance travelled "
   ]
  },
  {
   "cell_type": "code",
   "execution_count": 258,
   "id": "8ecaf832",
   "metadata": {},
   "outputs": [
    {
     "data": {
      "text/plain": [
       "1.9809642620689494"
      ]
     },
     "execution_count": 258,
     "metadata": {},
     "output_type": "execute_result"
    }
   ],
   "source": [
    "gdf_combined['DISTANCE_TRAVELLED'].mean()"
   ]
  },
  {
   "cell_type": "markdown",
   "id": "2b7b5324",
   "metadata": {},
   "source": [
    "#### Standard deviatioon of distance travelled"
   ]
  },
  {
   "cell_type": "code",
   "execution_count": 259,
   "id": "acb3a99e",
   "metadata": {},
   "outputs": [
    {
     "data": {
      "text/plain": [
       "2.350000290970313"
      ]
     },
     "execution_count": 259,
     "metadata": {},
     "output_type": "execute_result"
    }
   ],
   "source": [
    "gdf_combined['DISTANCE_TRAVELLED'].std()"
   ]
  },
  {
   "cell_type": "markdown",
   "id": "94640cf4",
   "metadata": {},
   "source": [
    "#### Based on the mean and standard deviation 67% of the distance travelled are within 4.33 miles"
   ]
  },
  {
   "cell_type": "code",
   "execution_count": 242,
   "id": "a67636e8",
   "metadata": {},
   "outputs": [],
   "source": [
    "# To answer - How far do people travel based on different types of cuisine?\n",
    "graph_tmp_cusine = gdf_combined.groupby(['CUISINE DESCRIPTION'], as_index = False)['DISTANCE_TRAVELLED'].mean().copy(deep = True)\n"
   ]
  },
  {
   "cell_type": "code",
   "execution_count": 243,
   "id": "4e6120a6",
   "metadata": {
    "scrolled": false
   },
   "outputs": [
    {
     "data": {
      "text/plain": [
       "Index(['CUISINE DESCRIPTION', 'DISTANCE_TRAVELLED'], dtype='object')"
      ]
     },
     "execution_count": 243,
     "metadata": {},
     "output_type": "execute_result"
    }
   ],
   "source": [
    "graph_tmp_cusine.columns"
   ]
  },
  {
   "cell_type": "code",
   "execution_count": 244,
   "id": "51188537",
   "metadata": {
    "scrolled": false
   },
   "outputs": [
    {
     "data": {
      "text/plain": [
       "<AxesSubplot:xlabel='CUISINE DESCRIPTION'>"
      ]
     },
     "execution_count": 244,
     "metadata": {},
     "output_type": "execute_result"
    },
    {
     "data": {
      "image/png": "[encoded data removed]",
      "text/plain": [
       "<Figure size 2000x500 with 1 Axes>"
      ]
     },
     "metadata": {},
     "output_type": "display_data"
    }
   ],
   "source": [
    "graph_tmp_cusine.sort_values(\"DISTANCE_TRAVELLED\", ascending=False).plot.bar(x = 'CUISINE DESCRIPTION', y = 'DISTANCE_TRAVELLED', figsize=(20, 5))\n",
    "\n"
   ]
  },
  {
   "cell_type": "code",
   "execution_count": 285,
   "id": "b70ff618",
   "metadata": {},
   "outputs": [
    {
     "data": {
      "text/html": [
       "<div>\n",
       "<style scoped>\n",
       "    .dataframe tbody tr th:only-of-type {\n",
       "        vertical-align: middle;\n",
       "    }\n",
       "\n",
       "    .dataframe tbody tr th {\n",
       "        vertical-align: top;\n",
       "    }\n",
       "\n",
       "    .dataframe thead th {\n",
       "        text-align: right;\n",
       "    }\n",
       "</style>\n",
       "<table border=\"1\" class=\"dataframe\">\n",
       "  <thead>\n",
       "    <tr style=\"text-align: right;\">\n",
       "      <th></th>\n",
       "      <th>CUISINE DESCRIPTION</th>\n",
       "      <th>DISTANCE_TRAVELLED</th>\n",
       "    </tr>\n",
       "  </thead>\n",
       "  <tbody>\n",
       "    <tr>\n",
       "      <th>22</th>\n",
       "      <td>Creole</td>\n",
       "      <td>8.262501</td>\n",
       "    </tr>\n",
       "    <tr>\n",
       "      <th>71</th>\n",
       "      <td>Soul Food</td>\n",
       "      <td>8.049429</td>\n",
       "    </tr>\n",
       "    <tr>\n",
       "      <th>57</th>\n",
       "      <td>Other</td>\n",
       "      <td>6.667293</td>\n",
       "    </tr>\n",
       "    <tr>\n",
       "      <th>15</th>\n",
       "      <td>Caribbean</td>\n",
       "      <td>5.205806</td>\n",
       "    </tr>\n",
       "    <tr>\n",
       "      <th>36</th>\n",
       "      <td>Hamburgers</td>\n",
       "      <td>4.027879</td>\n",
       "    </tr>\n",
       "    <tr>\n",
       "      <th>...</th>\n",
       "      <td>...</td>\n",
       "      <td>...</td>\n",
       "    </tr>\n",
       "    <tr>\n",
       "      <th>73</th>\n",
       "      <td>Southwestern</td>\n",
       "      <td>1.275113</td>\n",
       "    </tr>\n",
       "    <tr>\n",
       "      <th>0</th>\n",
       "      <td>Afghan</td>\n",
       "      <td>1.047403</td>\n",
       "    </tr>\n",
       "    <tr>\n",
       "      <th>43</th>\n",
       "      <td>Iranian</td>\n",
       "      <td>0.992074</td>\n",
       "    </tr>\n",
       "    <tr>\n",
       "      <th>14</th>\n",
       "      <td>Californian</td>\n",
       "      <td>0.623562</td>\n",
       "    </tr>\n",
       "    <tr>\n",
       "      <th>13</th>\n",
       "      <td>Cajun</td>\n",
       "      <td>0.468801</td>\n",
       "    </tr>\n",
       "  </tbody>\n",
       "</table>\n",
       "<p>82 rows × 2 columns</p>\n",
       "</div>"
      ],
      "text/plain": [
       "   CUISINE DESCRIPTION  DISTANCE_TRAVELLED\n",
       "22              Creole            8.262501\n",
       "71           Soul Food            8.049429\n",
       "57               Other            6.667293\n",
       "15           Caribbean            5.205806\n",
       "36          Hamburgers            4.027879\n",
       "..                 ...                 ...\n",
       "73        Southwestern            1.275113\n",
       "0               Afghan            1.047403\n",
       "43             Iranian            0.992074\n",
       "14         Californian            0.623562\n",
       "13               Cajun            0.468801\n",
       "\n",
       "[82 rows x 2 columns]"
      ]
     },
     "execution_count": 285,
     "metadata": {},
     "output_type": "execute_result"
    }
   ],
   "source": [
    "graph_tmp_cusine.sort_values(\"DISTANCE_TRAVELLED\", ascending=False)"
   ]
  },
  {
   "cell_type": "markdown",
   "id": "a87d2e64",
   "metadata": {},
   "source": [
    "As seen from above graph - on an average the highest distance traveled is 8.262501 miles. But the acutal highest distance traveled is close to 20 miles. The bar graph shows the average distance travelled by people based on cuisine."
   ]
  },
  {
   "cell_type": "markdown",
   "id": "ddf12760",
   "metadata": {},
   "source": [
    "### How far do people travel based on the borough where the restaurant is located ?"
   ]
  },
  {
   "cell_type": "code",
   "execution_count": 245,
   "id": "706a2657",
   "metadata": {
    "scrolled": true
   },
   "outputs": [],
   "source": [
    "graph_tmp_boro = gdf_combined.groupby(['BORO'], as_index = False)['DISTANCE_TRAVELLED'].mean()"
   ]
  },
  {
   "cell_type": "code",
   "execution_count": 246,
   "id": "9fc35925",
   "metadata": {},
   "outputs": [
    {
     "data": {
      "text/plain": [
       "<AxesSubplot:xlabel='BORO'>"
      ]
     },
     "execution_count": 246,
     "metadata": {},
     "output_type": "execute_result"
    },
    {
     "data": {
      "image/png": "[encoded data removed]",
      "text/plain": [
       "<Figure size 640x480 with 1 Axes>"
      ]
     },
     "metadata": {},
     "output_type": "display_data"
    }
   ],
   "source": [
    "graph_tmp_boro.sort_values(\"DISTANCE_TRAVELLED\", ascending=False).plot.bar(x = 'BORO', y = 'DISTANCE_TRAVELLED')"
   ]
  },
  {
   "cell_type": "code",
   "execution_count": 247,
   "id": "12c49c7d",
   "metadata": {},
   "outputs": [
    {
     "data": {
      "text/html": [
       "<div>\n",
       "<style scoped>\n",
       "    .dataframe tbody tr th:only-of-type {\n",
       "        vertical-align: middle;\n",
       "    }\n",
       "\n",
       "    .dataframe tbody tr th {\n",
       "        vertical-align: top;\n",
       "    }\n",
       "\n",
       "    .dataframe thead th {\n",
       "        text-align: right;\n",
       "    }\n",
       "</style>\n",
       "<table border=\"1\" class=\"dataframe\">\n",
       "  <thead>\n",
       "    <tr style=\"text-align: right;\">\n",
       "      <th></th>\n",
       "      <th>BORO</th>\n",
       "      <th>DISTANCE_TRAVELLED</th>\n",
       "    </tr>\n",
       "  </thead>\n",
       "  <tbody>\n",
       "    <tr>\n",
       "      <th>0</th>\n",
       "      <td>BRONX</td>\n",
       "      <td>8.032041</td>\n",
       "    </tr>\n",
       "    <tr>\n",
       "      <th>1</th>\n",
       "      <td>BROOKLYN</td>\n",
       "      <td>3.726855</td>\n",
       "    </tr>\n",
       "    <tr>\n",
       "      <th>2</th>\n",
       "      <td>MANHATTAN</td>\n",
       "      <td>1.640221</td>\n",
       "    </tr>\n",
       "    <tr>\n",
       "      <th>3</th>\n",
       "      <td>QUEENS</td>\n",
       "      <td>6.384624</td>\n",
       "    </tr>\n",
       "    <tr>\n",
       "      <th>4</th>\n",
       "      <td>STATEN ISLAND</td>\n",
       "      <td>11.799483</td>\n",
       "    </tr>\n",
       "  </tbody>\n",
       "</table>\n",
       "</div>"
      ],
      "text/plain": [
       "            BORO  DISTANCE_TRAVELLED\n",
       "0          BRONX            8.032041\n",
       "1       BROOKLYN            3.726855\n",
       "2      MANHATTAN            1.640221\n",
       "3         QUEENS            6.384624\n",
       "4  STATEN ISLAND           11.799483"
      ]
     },
     "execution_count": 247,
     "metadata": {},
     "output_type": "execute_result"
    }
   ],
   "source": [
    "gdf_combined.groupby(['BORO'], as_index = False)['DISTANCE_TRAVELLED'].mean()"
   ]
  },
  {
   "cell_type": "markdown",
   "id": "58218bbb",
   "metadata": {},
   "source": [
    "The Staten Island have more people travelling long distances on average. Then followed by Bronx. "
   ]
  },
  {
   "cell_type": "markdown",
   "id": "6520e6b5",
   "metadata": {},
   "source": [
    "### How far do people travel based on meal time?"
   ]
  },
  {
   "cell_type": "code",
   "execution_count": 248,
   "id": "efddeb01",
   "metadata": {
    "scrolled": true
   },
   "outputs": [
    {
     "data": {
      "text/plain": [
       "1\n",
       "False    2.075457\n",
       "True     1.799271\n",
       "Name: DISTANCE_TRAVELLED, dtype: float64"
      ]
     },
     "execution_count": 248,
     "metadata": {},
     "output_type": "execute_result"
    }
   ],
   "source": [
    "gdf_combined.groupby((gdf_combined.tpep_dropoff_datetime.str.split(\" \",expand=True)[1] > '11:30:00') & (gdf_combined.tpep_dropoff_datetime.str.split(\" \",expand=True)[1] < '14:00:00'))['DISTANCE_TRAVELLED'].mean()\n"
   ]
  },
  {
   "cell_type": "markdown",
   "id": "629e0997",
   "metadata": {},
   "source": [
    "True - corresponds to Lunch time and False to Dinner. \n",
    "\n",
    "As per the above results, people travel long distances for dinner with respect to luch time. "
   ]
  },
  {
   "cell_type": "markdown",
   "id": "a0877919",
   "metadata": {},
   "source": [
    "## Describe how you would set up a predictive model"
   ]
  },
  {
   "cell_type": "markdown",
   "id": "395916e5",
   "metadata": {},
   "source": [
    "### To set up a predictive model given the two datasets of trips and restuarants, we can follow the following steps:\n",
    "\n",
    "1. Define the problem - also state the assumptions made\n",
    "2. Gather data\n",
    "3. Clean and preprocess the data\n",
    "4. Split the data\n",
    "5. Choose a model\n",
    "6. Train the model\n",
    "7. Evaluate the model\n",
    "8. Adjust the model\n",
    "9. Use the model"
   ]
  },
  {
   "cell_type": "markdown",
   "id": "3d0a68a7",
   "metadata": {},
   "source": [
    "### Define the problem\n",
    "\n",
    "The problem statement is to predict cuisine type to be visited by a taxi rider based on information avilable in trip and restaurant datasets. The final combined dataframe contains 33,405 rows. \n",
    "\n",
    "Not to forget that the data is collected on 01/15/2015 for trips and 2014 - 2017 records are present for restaurants. Also collected from 5 Borough's in USA. The final predictive model works well is prediction is made on data point drawn from this distribution. \n",
    "\n"
   ]
  },
  {
   "cell_type": "markdown",
   "id": "07d2421a",
   "metadata": {},
   "source": [
    "### Gather data\n",
    "\n",
    "Collect the data you need to train your model. This may involve finding a dataset online, extracting data from a database, or collecting data using surveys or other means.\n",
    "\n",
    "we can predict cuisine based on weather, price range of restaurant, pickup location, drop location, distance travelled, passenger count, restaurant name.\n",
    "\n",
    "* `weather`: Given the drop time and location, we could fetch the weather information as a discrete variable from public APIs. One such API is the [OpenWeather](https://openweathermap.org/api)\n",
    "* `restaurant name`: Given the drop-location, we can infer the closest restaurant around the 50m radius. Restaurant name indicates standard knowledge about cuisines. Google's [Places](https://developers.google.com/maps/documentation/places/web-service/search-nearby) API is the best fit for this task.\n",
    "* `price range`: As the price range of a restaurant is a direct indicator of its primary cuisine, we fetch the price range of the restaurant from the same API.\n",
    "* `locations`: The pickup and drop locations are mapped to the geohash using the geo-hasing libraries.\n",
    "* `passenger count`: Passenger count indicates the number of people riding and visiting the restaurant.\n",
    "* `distance travelled`: Distance tarvelled is discretized into three ordinaly categories which provides a more robust feature representation."
   ]
  },
  {
   "cell_type": "markdown",
   "id": "12a86ccc",
   "metadata": {},
   "source": [
    "### Clean and preprocess the data\n",
    "\n",
    "Several possible cleaning startegies help for a simple and faster training.\n",
    "\n",
    "1. Removing the outliers for the distance travelled improves the feature value which can be done by a blox plot.\n",
    "2. The restaurant names are standardised by lower casing and removing any special characters\n",
    "3. Any samples contaning empty feature values are ommited."
   ]
  },
  {
   "cell_type": "markdown",
   "id": "85031eaf",
   "metadata": {},
   "source": [
    "### Split the data\n",
    "\n",
    "I will split data into 70% for train, 15% for validation and 15% for test. As the data is not huge this split is considered. "
   ]
  },
  {
   "cell_type": "markdown",
   "id": "68dcf7ab",
   "metadata": {},
   "source": [
    "### Choose a model\n",
    "\n",
    "\n",
    "Few models which I would try: \n",
    "\n",
    "Random Forest: As the features mentioned above which would be used for predictions does not necessarily have category type data in all we can random forest which is an ensemble model that uses multiple decision trees to make predictions. Random forests can handle large datasets with high dimensionality and are robust against overfitting. It works by creating a large number of decision trees and averaging their predictions to obtain a more accurate prediction.\n",
    "\n",
    "\n",
    "Naive Bayes: Naive Bayes assumes that the predictors are independent, all features in our case are indenpendent of each other. \n",
    "\n",
    "Support Vector Machines (SVMs): They work well with high-dimensional datasets and can handle non-linear data.\n",
    "\n",
    "Neural Networks: They can be used for classification problems and can handle complex relationships between variables. \n",
    "\n",
    "Neural networks require a large amount of data to train and can be prone to overfitting, but they are capable of achieving high accuracy.\n",
    "\n",
    "### Selected Methodology\n",
    "* I would first discretize the above mentioned features. For instance, the distance travelled could be categorised into three categories. The pickup and drop locations can be categorised by geo-hash.\n",
    "\n",
    "* Each feature has its own micro-modeling process. The restaurant name is better processed by a character level encoding model. The goehash can be processed by a word2vec type model. All the micro-models produce an embedding which are then concatenated or processed using attention to give a final representation vector of the features.\n",
    "\n",
    "* The final embedding is then passed on to a classification head to predict the cuisine type.\n"
   ]
  },
  {
   "cell_type": "markdown",
   "id": "b612ec9f",
   "metadata": {},
   "source": [
    "### Train the model\n",
    "\n",
    "Once you've chosen a model, you'll need to train it using the training set. This involves tuning the hyperparameters to adjust the mode until it fits the data as closely as possible."
   ]
  },
  {
   "cell_type": "markdown",
   "id": "2008eb9c",
   "metadata": {},
   "source": [
    "### Evaluate the model\n",
    "\n",
    "We initially evaluate the model on validation dataset and tune the hyperparameters until we get better results, later the final evaluation is done on test set to check the performance. \n",
    "\n",
    "I will use F1 score metric as the classes are imbalanced. "
   ]
  },
  {
   "cell_type": "markdown",
   "id": "cc32fbd1",
   "metadata": {},
   "source": [
    "### Adjust the model\n",
    "\n",
    "If the model isn't performing well, you may need to adjust it. This could involve trying different types of models, adjusting the parameters of the existing model, or modifying the data to make it more suitable for the model."
   ]
  },
  {
   "cell_type": "markdown",
   "id": "4c4d9b82",
   "metadata": {},
   "source": [
    "### Use the model\n",
    "\n",
    "Once you're satisfied with the performance of the model, you can start using it to make predictions. "
   ]
  },
  {
   "cell_type": "code",
   "execution_count": null,
   "id": "98c1536d",
   "metadata": {},
   "outputs": [],
   "source": []
  },
  {
   "cell_type": "code",
   "execution_count": null,
   "id": "f0a75c9f",
   "metadata": {},
   "outputs": [],
   "source": []
  }
 ],
 "metadata": {
  "kernelspec": {
   "display_name": "Python 3 (ipykernel)",
   "language": "python",
   "name": "python3"
  },
  "language_info": {
   "codemirror_mode": {
    "name": "ipython",
    "version": 3
   },
   "file_extension": ".py",
   "mimetype": "text/x-python",
   "name": "python",
   "nbconvert_exporter": "python",
   "pygments_lexer": "ipython3",
   "version": "3.9.13"
  }
 },
 "nbformat": 4,
 "nbformat_minor": 5
}
